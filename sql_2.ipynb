{
  "nbformat": 4,
  "nbformat_minor": 0,
  "metadata": {
    "colab": {
      "provenance": []
    },
    "kernelspec": {
      "name": "python3",
      "display_name": "Python 3"
    },
    "language_info": {
      "name": "python"
    }
  },
  "cells": [
    {
      "cell_type": "markdown",
      "source": [
        "**SQL_3_HW_CHernov_Kirill**"
      ],
      "metadata": {
        "id": "ICPp4_k-bWUx"
      }
    },
    {
      "cell_type": "markdown",
      "source": [
        "1)\n",
        "```sql\n",
        "CREATE TABLE users (\n",
        "    user_id SERIAL PRIMARY KEY,\n",
        "    birth_date DATE NOT NULL,\n",
        "    sex VARCHAR(6) NOT NULL CHECK(sex = 'male' OR sex = 'female'),\n",
        "    age SMALLINT CHECK (age > 0)\n",
        ");\n",
        "\n",
        "-- Создание таблицы items\n",
        "CREATE TABLE items (\n",
        "    item_id SERIAL PRIMARY KEY,\n",
        "    description VARCHAR(255) NOT NULL,\n",
        "    price NUMERIC NOT NULL CHECK (price >= 0),\n",
        "    category VARCHAR(50) NOT NULL\n",
        ");\n",
        "\n",
        "-- Создание таблицы ratings\n",
        "CREATE TABLE ratings (\n",
        "    item_id INT,\n",
        "    user_id INT,\n",
        "    review VARCHAR(255),\n",
        "    rating SMALLINT CHECK (rating >= 0 AND rating <= 5),\n",
        "    FOREIGN KEY (item_id) REFERENCES items(item_id),\n",
        "    FOREIGN KEY (user_id) REFERENCES users(user_id)\n",
        ");\n",
        "```\n",
        "\n",
        "Тип `SERIAL` используется для генерации последовательности целых чисел, которые используются в качестве первичного ключа таблиц  (поле user_id и item_id). Типы данных `DATE`, `VARCHAR` и `INT` используются для хранения дат, строк, и целых чисел соответственно. `NUMERIC` используется для хранения денежных сумм, где требуется точность. Ключевое слово `FOREIGN KEY` используется для создания внешних ключей, которые связывают таблицу ratings с таблицами items и users.\n",
        "\n",
        "Генерация данных:\n",
        "```sql\n",
        "\n",
        "INSERT INTO users(birth_date, sex)\n",
        "SELECT\n",
        "       (DATE '1990-01-01' + INTERVAL '1 day' * random() * 7300) ::DATE AS birth_date,\n",
        "       CASE WHEN random() < 0.5 THEN 'male' ELSE 'female' END AS sex,\n",
        "       \n",
        "FROM generate_series(1, 10);\n",
        "```\n",
        "Здесь генерируется дата рождения user'a случайным образом: к 1990-01-01 добавляется добавляется случайное количетсво дней до 20 лет (7300 дней), а также с вероятностью 0.5 пол.\n",
        "\n",
        "```sql\n",
        "UPDATE users\n",
        "  SET age = EXTRACT(YEAR FROM age(birth_date));\n",
        "```\n",
        "Возраст вычисляется с использованием функции `age`, которая вычитает из текущей даты дату рождения.\n",
        "\n",
        "Чтобы заполнить таблицу items воспользуемся \"ручным методом\" :) (ради интереса):\n",
        "```sql\n",
        "INSERT INTO items (description, price, category)\n",
        "VALUES\n",
        "    ('headphones', 10.95, 'electronics'),\n",
        "    ('mouse', 4.50, 'electronics'),\n",
        "    ('watch', 20.50, 'electronics'),\n",
        "    ('laptop', 899.90, 'electronics'),\n",
        "    ('lamp', 12.99, 'electronics'),\n",
        "    ('pot', 8.40, 'dishes'),\n",
        "    ('frying pan', 9.40, 'dishes'),\n",
        "    ('plate red', 3.90, 'dishes'),\n",
        "    ('plate green', 3.90, 'dishes'),\n",
        "    ('plate yellow', 3.90, 'dishes'),\n",
        "    ('fork', 2.75, 'dishes'),\n",
        "    ('spoon', 2.75, 'dishes'),\n",
        "    ('pen', 0.5, 'chancellery'),\n",
        "    ('paper', 8.40, 'chancellery'),\n",
        "    ('copybook', 0.90, 'chancellery'),\n",
        "    ('pencil box', 1.34, 'chancellery'),\n",
        "    ('compass', 3.45, 'chancellery'),\n",
        "    ('milk', 1.40, 'products'),\n",
        "    ('fish', 3.78, 'products'),\n",
        "    ('meat', 3.04, 'products');\n",
        "```\n",
        "\n",
        "Генерация данных в ratings:\n",
        "\n",
        "```sql\n",
        "INSERT INTO ratings (item_id, user_id, review, rating)\n",
        "SELECT\n",
        "    items.item_id,\n",
        "    users.user_id,\n",
        "    CASE floor(random() * 5)\n",
        "           WHEN 0 THEN 'Top!'\n",
        "           WHEN 1 THEN 'Good'\n",
        "           WHEN 2 THEN 'Nice'\n",
        "           WHEN 3 THEN 'BAD!'\n",
        "           WHEN 4 THEN 'Very BAD'\n",
        "    END as review,\n",
        "    FLOOR(RANDOM() * 5 + 1) as rating\n",
        "FROM  users, items;\n",
        "```\n",
        "\n"
      ],
      "metadata": {
        "id": "WXnTPm7jZF94"
      }
    },
    {
      "cell_type": "markdown",
      "source": [
        "2) Связь/отношение между таблицами users и ratings - это один-к-многим (one-to-many). Одному пользователю может соответствовать несколько рейтингов.\n",
        "\n",
        "Связь/отношение между таблицами items и ratings - также один-к-многим (one-to-many). Одному товару может соответствовать несколько рейтингов."
      ],
      "metadata": {
        "id": "UnRQl6Xy4nB1"
      }
    },
    {
      "cell_type": "markdown",
      "source": [
        "3)\n",
        "Варианты создания индексов зависят от конкретных запросов и операций, которые будут выполняться на этих таблицах. В общем случае, рассмотрим несколько потенциальных вариантов:\n",
        "\n",
        "1. Для таблицы users можно создать индекс по столбцу, который используется для идентификации пользователя, например, по полю \"user_id\". Это поможет ускорить запросы, которые ищут информацию о конкретном пользователе.\n",
        "\n",
        "2. Для таблицы ratings можно создать индекс по полям, используемым в частых запросах. Например, если мы часто делаем выборку рейтингов по конкретному пользователю (user_id) и/или конкретному товару (item_id), то индексы по этим полям могут существенно ускорить такие запросы.\n",
        "\n",
        "3. Для таблицы items можно создать индекс по полю, используемому для идентификации товара, например, по полю \"item_id\". Это будет полезно, если часто выполняются запросы на получение информации о конкретном товаре."
      ],
      "metadata": {
        "id": "d9pAI4g94qUw"
      }
    },
    {
      "cell_type": "markdown",
      "source": [
        "4)  \n",
        "2 - может добавить в таблицу car_owner данные, потому что значение в первом столбце является уникальным (primary key), все типы соответствуют типам колонок.\n",
        "7 - может добавить в таблицу car данные, потому что значение в первом столбце может наследоваться от primary key таблицы car_owner, все типы соответствуют типам колонок.\n"
      ],
      "metadata": {
        "id": "Kh9L8Kwl45KI"
      }
    },
    {
      "cell_type": "markdown",
      "source": [
        "5) Да, данный скрипт можно использовать для шардинга таблицы на 32 документа и генерации 16 тестовых таблиц."
      ],
      "metadata": {
        "id": "Pnzc3jfe-PLC"
      }
    }
  ]
}