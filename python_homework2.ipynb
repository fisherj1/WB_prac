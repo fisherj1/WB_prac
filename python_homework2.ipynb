{
 "cells": [
  {
   "cell_type": "markdown",
   "metadata": {},
   "source": [
    "Домашнее задание numpy \n",
    "список вариантов по фамилиям: \n",
    "\n",
    "Егор Бобошко - 1 вариант \n",
    "\n",
    "Тарон Вирабян - 2 вариант \n",
    "\n",
    "Эрик Гарифуллин - 3 вариант \n",
    "\n",
    "Дмитрий Гусаров - 4 вариант \n",
    "\n",
    "Даниил Жданов - 5 вариант \n",
    "\n",
    "Даниил Иванов - 6 вариант \n",
    "\n",
    "Никита Иващенко -  7 вариант \n",
    "\n",
    "Роман Кислинский - 8 вариант \n",
    "\n",
    "Семен Квасенко - 9 вариант \n",
    "\n",
    "Евгений Кушаков - 10 вариант \n",
    "\n",
    "Денис Култушев - 11 вариант \n",
    "\n",
    "Тимур Мендгалиев - 12 вариант \n",
    "\n",
    "Иван Насонов - 13 вариант \n",
    "\n",
    "Андрей Овсянов - 14 вариант \n",
    "\n",
    "Афина Подерни - 15 вариант \n",
    "\n",
    "Анна Павликова - 16 вариант \n",
    "\n",
    "Людмила Петрашко - 17 вариант \n",
    "\n",
    "Дарья Урядова - 18 вариант \n",
    "\n",
    "Максим Чеботарев - 19 вариант \n",
    "\n",
    "Кирилл Чернов - 20 вариант \n",
    "\n",
    "Никита Щиголев - 21 вариант \n",
    "\n",
    "Илья Цыганов - 22 вариант \n"
   ]
  },
  {
   "cell_type": "markdown",
   "metadata": {},
   "source": [
    "<h1>Задание 1</h1>\n",
    "\n",
    "На маркетплейсе есть огромный объем данных содержащий записи о продажах различных продуктов. Наша цель — рассчитать общий доход, полученный от каждого продукта за определённый период. \n",
    "\n",
    "Необходимо решить задачу через классический python, numpy и numpy с использованием векторизации\n",
    "\n",
    "\n",
    "Данные: \n",
    "products = ['автомобиль HAVAL', 'обувь', 'одежда', 'телефоны'] (при решении через numpy необходимо представить это в виде np.array() )\n",
    "prices = [20000, 3000, 45600, 5000] (при решении через numpy необходимо представить это в виде np.array() ) \n",
    "\n",
    "Данные о продажах необходимо сгенерировать самостоятельно и вывести в одном параграфов в ноутбуке, ниже приведен пример генерации случайных значений "
   ]
  },
  {
   "cell_type": "markdown",
   "metadata": {},
   "source": [
    "Данные в различных реализациях должны совпадать."
   ]
  },
  {
   "cell_type": "markdown",
   "metadata": {},
   "source": [
    "После генерации необходимо сравнить доход от каждого продукта и время на выполнение. "
   ]
  },
  {
   "cell_type": "markdown",
   "metadata": {},
   "source": [
    "### Пояснение к решению\n",
    "Т.к. \"Наша цель — __рассчитать__ общий доход, полученный от каждого продукта за определённый период\", то предпологается, что данные уже хранятся в памяти, и нам нужно проверить, каким из трех методов (classic python, numpy, vectorized numpy)  __рассчитать__ общий доход будет быстрее."
   ]
  },
  {
   "cell_type": "code",
   "execution_count": 2,
   "metadata": {},
   "outputs": [],
   "source": [
    "import random\n",
    "import numpy as np\n",
    "variant = 20 # подставьте номер своего  варианта"
   ]
  },
  {
   "cell_type": "code",
   "execution_count": 2,
   "metadata": {},
   "outputs": [],
   "source": [
    "#Data\n",
    "sales = [] # for classic python method\n",
    "for _ in range(4):\n",
    "    sales.append([random.randint(0, variant+100) for k in range(100000)])\n",
    "numpy_sales = np.array(sales, dtype='int64') # for numpy method"
   ]
  },
  {
   "cell_type": "code",
   "execution_count": 3,
   "metadata": {},
   "outputs": [
    {
     "name": "stdout",
     "output_type": "stream",
     "text": [
      "автомобиль HAVAL: 120228340000\n",
      "обувь: 17948988000\n",
      "одежда: 273916099200\n",
      "телефоны: 29916725000\n",
      "CPU times: total: 15.6 ms\n",
      "Wall time: 16.8 ms\n"
     ]
    }
   ],
   "source": [
    "%%time\n",
    "#Classic python solution\n",
    "products = ['автомобиль HAVAL', 'обувь', 'одежда', 'телефоны']\n",
    "prices = [20000, 3000, 45600, 5000]\n",
    "for i, product in enumerate(products):\n",
    "    print(f'{product}: {sum(sales[i])*prices[i]}')"
   ]
  },
  {
   "cell_type": "code",
   "execution_count": 4,
   "metadata": {},
   "outputs": [
    {
     "name": "stdout",
     "output_type": "stream",
     "text": [
      "автомобиль HAVAL: 120228340000\n",
      "обувь: 17948988000\n",
      "одежда: 273916099200\n",
      "телефоны: 29916725000\n",
      "CPU times: total: 0 ns\n",
      "Wall time: 3.05 ms\n"
     ]
    }
   ],
   "source": [
    "%%time\n",
    "#Numpy solution\n",
    "products = np.array(['автомобиль HAVAL', 'обувь', 'одежда', 'телефоны'])\n",
    "prices = np.array([20000, 3000, 45600, 5000], )\n",
    "for i, product in enumerate(products):\n",
    "    print(f'{product}: {np.sum(numpy_sales[i])*prices[i]}')\n"
   ]
  },
  {
   "cell_type": "code",
   "execution_count": 5,
   "metadata": {},
   "outputs": [
    {
     "name": "stdout",
     "output_type": "stream",
     "text": [
      "автомобиль HAVAL: 120228340000\n",
      "обувь: 17948988000\n",
      "одежда: 273916099200\n",
      "телефоны: 29916725000\n",
      "CPU times: total: 0 ns\n",
      "Wall time: 2.56 ms\n"
     ]
    }
   ],
   "source": [
    "%%time\n",
    "#Vectorized numpy solution\n",
    "products = np.array(['автомобиль HAVAL', 'обувь', 'одежда', 'телефоны'])\n",
    "prices = np.array([20000, 3000, 45600, 5000])\n",
    "sums = numpy_sales.sum(axis=1).astype('int64')*prices\n",
    "for i, product in enumerate(products): #вывод стандартный питоновский, потому что на вывод 4 чисел скорость не повлияет\n",
    "    print(f'{product}: {sums[i]}') "
   ]
  },
  {
   "cell_type": "markdown",
   "metadata": {},
   "source": [
    "<h1>Задание 2</h1>"
   ]
  },
  {
   "cell_type": "markdown",
   "metadata": {},
   "source": [
    "Необходимо написать с использованием numpy реализацию одного из следующих алгоритмов: \n",
    "\n",
    "- heapsort (вариант: 1,5,9,13,17,21)\n",
    "\n",
    "- mergesort (вариант: 2,6,10,14,18,22)\n",
    "\n",
    "- stable (вариант: 3,7,11,15,19)\n",
    "\n",
    "- quicksort (вариант: 4,8,12,16,20) \n",
    "\n",
    "Сравнить скорость выполнения этих алгоритмов на чистом python, вашей реализации и numpy.sort() "
   ]
  },
  {
   "cell_type": "code",
   "execution_count": 6,
   "metadata": {},
   "outputs": [],
   "source": [
    "def np_qs(a):\n",
    "    if np.size(a) <= 1:\n",
    "        return a\n",
    "    else:\n",
    "        pivot = a[np.size(a) // 2]\n",
    "        left = a[a < pivot]\n",
    "        middle = a[a == pivot]\n",
    "        right = a[a > pivot]\n",
    "        return np.concatenate((np_qs(left), middle, np_qs(right)))\n",
    "arr = np.random.randint(1,999,99999)"
   ]
  },
  {
   "cell_type": "code",
   "execution_count": 7,
   "metadata": {},
   "outputs": [
    {
     "name": "stdout",
     "output_type": "stream",
     "text": [
      "CPU times: total: 125 ms\n",
      "Wall time: 120 ms\n"
     ]
    }
   ],
   "source": [
    "%%time\n",
    "k1 = sorted(arr)"
   ]
  },
  {
   "cell_type": "code",
   "execution_count": 8,
   "metadata": {},
   "outputs": [
    {
     "name": "stdout",
     "output_type": "stream",
     "text": [
      "CPU times: total: 62.5 ms\n",
      "Wall time: 102 ms\n"
     ]
    }
   ],
   "source": [
    "%%time\n",
    "k2 = np_qs(arr)"
   ]
  },
  {
   "cell_type": "code",
   "execution_count": 9,
   "metadata": {},
   "outputs": [
    {
     "name": "stdout",
     "output_type": "stream",
     "text": [
      "CPU times: total: 0 ns\n",
      "Wall time: 46.4 ms\n"
     ]
    }
   ],
   "source": [
    "%%time\n",
    "k3 = np.sort(arr)"
   ]
  },
  {
   "cell_type": "markdown",
   "metadata": {},
   "source": [
    "<h1>Задание 3</h1> \n",
    "\n",
    "У нас есть данные о потреблении алкоголя о потреблнеии Алкоголя в мире https://github.com/fivethirtyeight/data/tree/master/alcohol-consumption. \n",
    "\n",
    "Давайте представим эти данные в виде структурированных массивов и определим, где же люди пьют больше вина, пива и других спиртных напитков."
   ]
  },
  {
   "cell_type": "code",
   "execution_count": 3,
   "metadata": {},
   "outputs": [
    {
     "data": {
      "text/plain": [
       "dtype([('country', '<U32'), ('beer_servings', '<f8'), ('spirit_servings', '<f8'), ('wine_servings', '<f8'), ('total_litres_of_pure_alcohol', '<f8')])"
      ]
     },
     "execution_count": 3,
     "metadata": {},
     "output_type": "execute_result"
    }
   ],
   "source": [
    "data = np.genfromtxt('drinks.csv', delimiter=',', dtype=['<U32', \"float\", \"float\", \"float\", \"float\"],  names=True)\n",
    "data.dtype"
   ]
  },
  {
   "cell_type": "code",
   "execution_count": 4,
   "metadata": {},
   "outputs": [
    {
     "name": "stdout",
     "output_type": "stream",
     "text": [
      "beer:  Namibia\n",
      "spirit_servings:  Grenada\n",
      "wine_servings:  France\n",
      "total_litres_of_pure_alcohol:  Belarus\n"
     ]
    }
   ],
   "source": [
    "print('beer: ', data['country'][data['beer_servings'].argmax()])\n",
    "print('spirit_servings: ', data['country'][data['spirit_servings'].argmax()])\n",
    "print('wine_servings: ', data['country'][data['wine_servings'].argmax()])\n",
    "print('total_litres_of_pure_alcohol: ', data['country'][data['total_litres_of_pure_alcohol'].argmax()])"
   ]
  },
  {
   "cell_type": "markdown",
   "metadata": {},
   "source": [
    "<h1>Задание 4</h1> \n",
    "\n",
    "У нас есть Полный каталог всех случаев, когда кто-то проклинал или истекал кровью в фильме Квентина Тарантино. https://github.com/fivethirtyeight/data/tree/master/tarantino\n",
    "\n",
    "Давайте представим эти данные в виде структурированных массивов и определим:\n",
    "\n",
    "- число проклятий, летальных исходов и их отношение по фильмам \n",
    "\n",
    "- частота употребления конкретных прокрятий \n",
    "\n",
    "- распределение времени между проклятиями "
   ]
  },
  {
   "cell_type": "code",
   "execution_count": 12,
   "metadata": {},
   "outputs": [
    {
     "data": {
      "text/plain": [
       "dtype([('movie', '<U32'), ('type', '<U32'), ('word', '<U32'), ('minutes_in', '<f8')])"
      ]
     },
     "execution_count": 12,
     "metadata": {},
     "output_type": "execute_result"
    }
   ],
   "source": [
    "data = np.genfromtxt('tarantino.csv', delimiter=',', dtype=['<U32','<U32', '<U32', \"float\"],  names=True)\n",
    "data.dtype"
   ]
  },
  {
   "cell_type": "code",
   "execution_count": 13,
   "metadata": {},
   "outputs": [
    {
     "name": "stdout",
     "output_type": "stream",
     "text": [
      "['Django Unchained' 'Inglorious Basterds' 'Jackie Brown'\n",
      " 'Kill Bill: Vol. 1' 'Kill Bill: Vol. 2' 'Pulp Fiction' 'Reservoir Dogs'] \n",
      " ['death' 'word']\n"
     ]
    }
   ],
   "source": [
    "movies = np.unique(data['movie'])\n",
    "types = np.unique(data['type'])\n",
    "print(movies, '\\n', types)"
   ]
  },
  {
   "cell_type": "markdown",
   "metadata": {},
   "source": [
    "- число проклятий, летальных исходов и их отношение по фильмам\r\n",
    "\r\n"
   ]
  },
  {
   "cell_type": "code",
   "execution_count": 14,
   "metadata": {},
   "outputs": [
    {
     "name": "stdout",
     "output_type": "stream",
     "text": [
      "Movie: Django Unchained, death: 262, word: 47, ratio: 5.574468085106383\n",
      "Movie: Inglorious Basterds, death: 58, word: 48, ratio: 1.2083333333333333\n",
      "Movie: Jackie Brown, death: 368, word: 4, ratio: 92.0\n",
      "Movie: Kill Bill: Vol. 1, death: 57, word: 63, ratio: 0.9047619047619048\n",
      "Movie: Kill Bill: Vol. 2, death: 69, word: 11, ratio: 6.2727272727272725\n",
      "Movie: Pulp Fiction, death: 469, word: 7, ratio: 67.0\n",
      "Movie: Reservoir Dogs, death: 421, word: 10, ratio: 42.1\n"
     ]
    }
   ],
   "source": [
    "for movie in movies:\n",
    "    death_count = np.sum((data['movie']==movie)*(data['type']=='death'))\n",
    "    word_count = np.sum((data['movie']==movie)*(data['type']=='word'))\n",
    "    print(f\"Movie: {movie}, death: {word_count}, word: {death_count}, ratio: {word_count/death_count}\")"
   ]
  },
  {
   "cell_type": "markdown",
   "metadata": {},
   "source": [
    "- частота употребления конкретных прокрятий"
   ]
  },
  {
   "cell_type": "code",
   "execution_count": 15,
   "metadata": {},
   "outputs": [
    {
     "name": "stdout",
     "output_type": "stream",
     "text": [
      "ass: 140\n",
      "asses: 4\n",
      "asshead: 1\n",
      "asshole: 10\n",
      "assholes: 5\n",
      "bastard: 10\n",
      "bastards: 1\n",
      "bitch: 64\n",
      "bitches: 9\n",
      "bullshit: 15\n",
      "chickenshit: 1\n",
      "cockblockery: 1\n",
      "cocksucker: 2\n",
      "cunt: 2\n",
      "cunts: 1\n",
      "damn: 37\n",
      "damned: 3\n",
      "dick: 14\n",
      "dickless: 1\n",
      "dicks: 5\n",
      "dumbass: 1\n",
      "faggot: 1\n",
      "fuck: 213\n",
      "fucked: 25\n",
      "fucker: 8\n",
      "fuckers: 1\n",
      "fuckface: 1\n",
      "fuckhead: 1\n",
      "fucking: 407\n",
      "fucks: 3\n",
      "fuckup: 1\n",
      "goddamn: 113\n",
      "goddamned: 1\n",
      "gook: 1\n",
      "gooks: 2\n",
      "hell: 45\n",
      "horeshit: 1\n",
      "horseshit: 2\n",
      "jackass: 1\n",
      "jap: 1\n",
      "japs: 2\n",
      "jew (verb): 1\n",
      "merde: 1\n",
      "motherfucker: 70\n",
      "motherfuckers: 15\n",
      "motherfucking: 27\n",
      "n-word : 179\n",
      "negro : 5\n",
      "pussy: 11\n",
      "shit: 221\n",
      "shithead: 3\n",
      "shitless: 1\n",
      "shitload: 2\n",
      "shittiest: 1\n",
      "shitting: 1\n",
      "shitty: 4\n",
      "slope: 1\n",
      "slut: 1\n",
      "squaw: 1\n",
      "wetback: 2\n"
     ]
    }
   ],
   "source": [
    "words, counts = np.unique(data['word'], return_counts=True)\n",
    "for word, count in zip(words, counts):\n",
    "    if not word:\n",
    "        continue\n",
    "    print(f'{word}: {count}')"
   ]
  },
  {
   "cell_type": "markdown",
   "metadata": {},
   "source": [
    "- распределение времени между проклятиями "
   ]
  },
  {
   "cell_type": "code",
   "execution_count": 17,
   "metadata": {},
   "outputs": [
    {
     "data": {
      "image/png": "[encoded data removed]",
      "text/plain": [
       "<Figure size 640x480 with 1 Axes>"
      ]
     },
     "metadata": {},
     "output_type": "display_data"
    }
   ],
   "source": [
    "import matplotlib.pyplot as plt\n",
    "diffs = np.diff(data['minutes_in'][data['type'] == 'word'])[np.diff(data['minutes_in'][data['type'] == 'word'])>=0]\n",
    "frq, edges = np.histogram(diffs, bins=1000)\n",
    "fig, ax = plt.subplots()\n",
    "ax.bar(edges[:-1], frq, width=np.diff(edges), edgecolor=\"black\", align=\"edge\")\n",
    "ax.set_ylabel('Count')\n",
    "ax.set_xlabel('Time, mins')\n",
    "plt.show()"
   ]
  }
 ],
 "metadata": {
  "kernelspec": {
   "display_name": "Python 3 (ipykernel)",
   "language": "python",
   "name": "python3"
  },
  "language_info": {
   "codemirror_mode": {
    "name": "ipython",
    "version": 3
   },
   "file_extension": ".py",
   "mimetype": "text/x-python",
   "name": "python",
   "nbconvert_exporter": "python",
   "pygments_lexer": "ipython3",
   "version": "3.11.5"
  }
 },
 "nbformat": 4,
 "nbformat_minor": 4
}
